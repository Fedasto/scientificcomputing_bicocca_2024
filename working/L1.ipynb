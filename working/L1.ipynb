{
 "cells": [
  {
   "cell_type": "markdown",
   "metadata": {},
   "source": [
    "## Lecture 1 - Exercises"
   ]
  },
  {
   "cell_type": "code",
   "execution_count": 17,
   "metadata": {},
   "outputs": [],
   "source": [
    "import numpy as np\n",
    "import random\n",
    "import string"
   ]
  },
  {
   "cell_type": "markdown",
   "metadata": {},
   "source": [
    "## Q1: Machine precision\n",
    "\n",
    "When talking about floating point, we discussed _machine epsilon_, $\\epsilon$&mdash;this is the smallest number that when added to 1 is still different from 1.\n",
    "\n",
    "We'll compute $\\epsilon$ here:\n",
    "\n",
    "  * Pick an initial guess for $\\epsilon$ of `eps = 1`.  \n",
    "\n",
    "  * Create a loop that checks whether `1 + eps` is different from `1`\n",
    "  \n",
    "  * Each loop iteration, cut the value of `eps` in half\n",
    "  \n",
    "What value of $\\epsilon$ do you find?"
   ]
  },
  {
   "cell_type": "code",
   "execution_count": 18,
   "metadata": {},
   "outputs": [
    {
     "name": "stdout",
     "output_type": "stream",
     "text": [
      "1.1102230246251565e-16\n"
     ]
    }
   ],
   "source": [
    "\n",
    "eps = 1\n",
    "\n",
    "while eps+1 != 1:\n",
    "    eps /=2\n",
    "\n",
    "print(eps)\n",
    "    "
   ]
  },
  {
   "cell_type": "markdown",
   "metadata": {},
   "source": [
    "## Q2: Iterations\n",
    "\n",
    "### Part 1\n",
    "\n",
    "To iterate over the tuples, where the _i_-th tuple contains the _i_-th elements of certain sequences, we can use `zip(*sequences)` function.\n",
    "\n",
    "We will iterate over two lists, `names` and `age`, and print out the resulting tuples.\n",
    "\n",
    "  * Start by initializing lists `names = [\"Mary\", \"John\", \"Sarah\"]` and `age = [21, 56, 98]`.\n",
    "  \n",
    "  * Iterate over the tuples containing a name and an age, the `zip(list1, list2)` function might be useful here.\n",
    "  \n",
    "  * Print out formatted strings of the type \"*NAME is AGE years old*\".\n",
    "  \n",
    "\n",
    "### Part 2\n",
    "\n",
    "The function `enumerate(sequence)` returns tuples containing indices of objects in the sequence, and the objects. \n",
    "\n",
    "The `random` module provides tools for working with the random numbers. In particular, `random.randint(start, end)` generates a random number not smaller than `start`, and not bigger than `end`.\n",
    "\n",
    "  * Generate a list of 10 random numbers from 0 to 9.\n",
    "  \n",
    "  * Using the `enumerate(random_list)` function, iterate over the tuples of random numbers and their indices, and print out *\"Match: NUMBER and INDEX\"* if the random number and its index in the list match."
   ]
  },
  {
   "cell_type": "code",
   "execution_count": 19,
   "metadata": {},
   "outputs": [
    {
     "name": "stdout",
     "output_type": "stream",
     "text": [
      "Mary is 21 years old\n",
      "John is 56 years old\n",
      "Sarah is 98 years old\n",
      "Match: 2 and 2\n",
      "Match: 7 and 7\n"
     ]
    }
   ],
   "source": [
    "# part 1\n",
    "names = [\"Mary\", \"John\", \"Sarah\"]\n",
    "ages = [21, 56, 98]\n",
    "\n",
    "for name, age in zip(names,ages):\n",
    "    print(f'{name} is {age} years old')\n",
    "\n",
    "# part 2\n",
    "num = [random.randint(0,9) for j in range(10)]\n",
    "\n",
    "for idx, num in enumerate(num):\n",
    "    if idx == num:\n",
    "        print(f'Match: {num} and {idx}')\n",
    "  \n"
   ]
  },
  {
   "cell_type": "markdown",
   "metadata": {},
   "source": [
    "## Q3: Books\n",
    "\n",
    "Here is a list of book titles (from http://thegreatestbooks.org).  Loop through the list and capitalize each word in each title. "
   ]
  },
  {
   "cell_type": "code",
   "execution_count": 20,
   "metadata": {},
   "outputs": [
    {
     "data": {
      "text/plain": [
       "['Don Quixote',\n",
       " 'In Search Of Lost Time',\n",
       " 'Ulysses',\n",
       " 'The Odyssey',\n",
       " 'War And Peace',\n",
       " 'Moby Dick',\n",
       " 'The Divine Comedy',\n",
       " 'Hamlet',\n",
       " 'The Adventures Of Huckleberry Finn',\n",
       " 'The Great Gatsby']"
      ]
     },
     "execution_count": 20,
     "metadata": {},
     "output_type": "execute_result"
    }
   ],
   "source": [
    "titles = [\"don quixote\", \n",
    "          \"in search of lost time\", \n",
    "          \"ulysses\", \n",
    "          \"the odyssey\", \n",
    "          \"war and peace\", \n",
    "          \"moby dick\", \n",
    "          \"the divine comedy\", \n",
    "          \"hamlet\", \n",
    "          \"the adventures of huckleberry finn\", \n",
    "          \"the great gatsby\"]\n",
    "\n",
    "\n",
    "[t.title() for t in titles]\n",
    "\n"
   ]
  },
  {
   "cell_type": "markdown",
   "metadata": {},
   "source": [
    "## Q4: Word counts\n",
    "\n",
    "Here's some text (the Gettysburg Address).  Our goal is to count how many times each word repeats.  We'll do a brute force method first, and then we'll look at ways to do it more efficiently (and compactly)."
   ]
  },
  {
   "cell_type": "code",
   "execution_count": 21,
   "metadata": {},
   "outputs": [
    {
     "data": {
      "text/plain": [
       "{'Four': 1,\n",
       " 'score': 1,\n",
       " 'and': 6,\n",
       " 'seven': 1,\n",
       " 'years': 1,\n",
       " 'ago': 1,\n",
       " 'our': 2,\n",
       " 'fathers': 1,\n",
       " 'brought': 1,\n",
       " 'forth': 1,\n",
       " 'on': 2,\n",
       " 'this': 4,\n",
       " 'continent': 1,\n",
       " 'a': 7,\n",
       " 'new': 2,\n",
       " 'nation': 5,\n",
       " 'conceived': 2,\n",
       " 'in': 4,\n",
       " 'Liberty': 1,\n",
       " 'dedicated': 4,\n",
       " 'to': 8,\n",
       " 'the': 11,\n",
       " 'proposition': 1,\n",
       " 'that': 13,\n",
       " 'all': 1,\n",
       " 'men': 2,\n",
       " 'are': 3,\n",
       " 'created': 1,\n",
       " 'equal': 1,\n",
       " 'Now': 1,\n",
       " 'we': 10,\n",
       " 'engaged': 1,\n",
       " 'great': 3,\n",
       " 'civil': 1,\n",
       " 'war': 2,\n",
       " 'testing': 1,\n",
       " 'whether': 1,\n",
       " 'or': 2,\n",
       " 'any': 1,\n",
       " 'so': 3,\n",
       " 'can': 5,\n",
       " 'long': 2,\n",
       " 'endure': 1,\n",
       " 'We': 10,\n",
       " 'met': 1,\n",
       " 'battle-field': 1,\n",
       " 'of': 5,\n",
       " 'have': 5,\n",
       " 'come': 1,\n",
       " 'dedicate': 2,\n",
       " 'portion': 1,\n",
       " 'field': 1,\n",
       " 'as': 1,\n",
       " 'final': 1,\n",
       " 'resting': 1,\n",
       " 'place': 1,\n",
       " 'for': 5,\n",
       " 'those': 1,\n",
       " 'who': 3,\n",
       " 'here': 8,\n",
       " 'gave': 2,\n",
       " 'their': 1,\n",
       " 'lives': 1,\n",
       " 'might': 1,\n",
       " 'live': 1,\n",
       " 'It': 5,\n",
       " 'is': 3,\n",
       " 'altogether': 1,\n",
       " 'fitting': 1,\n",
       " 'proper': 1,\n",
       " 'should': 1,\n",
       " 'do': 1,\n",
       " 'But': 2,\n",
       " 'larger': 1,\n",
       " 'sense': 1,\n",
       " 'not': 5,\n",
       " '--': 7,\n",
       " 'consecrate': 1,\n",
       " 'hallow': 1,\n",
       " 'ground': 1,\n",
       " 'The': 11,\n",
       " 'brave': 1,\n",
       " 'living': 2,\n",
       " 'dead': 3,\n",
       " 'struggled': 1,\n",
       " 'consecrated': 1,\n",
       " 'it': 5,\n",
       " 'far': 2,\n",
       " 'above': 1,\n",
       " 'poor': 1,\n",
       " 'power': 1,\n",
       " 'add': 1,\n",
       " 'detract': 1,\n",
       " 'world': 1,\n",
       " 'will': 1,\n",
       " 'little': 1,\n",
       " 'note': 1,\n",
       " 'nor': 1,\n",
       " 'remember': 1,\n",
       " 'what': 2,\n",
       " 'say': 1,\n",
       " 'but': 2,\n",
       " 'never': 1,\n",
       " 'forget': 1,\n",
       " 'they': 3,\n",
       " 'did': 1,\n",
       " 'us': 3,\n",
       " 'rather': 2,\n",
       " 'be': 2,\n",
       " 'unfinished': 1,\n",
       " 'work': 1,\n",
       " 'which': 2,\n",
       " 'fought': 1,\n",
       " 'thus': 1,\n",
       " 'nobly': 1,\n",
       " 'advanced': 1,\n",
       " 'task': 1,\n",
       " 'remaining': 1,\n",
       " 'before': 1,\n",
       " 'from': 2,\n",
       " 'these': 2,\n",
       " 'honored': 1,\n",
       " 'take': 1,\n",
       " 'increased': 1,\n",
       " 'devotion': 2,\n",
       " 'cause': 1,\n",
       " 'last': 1,\n",
       " 'full': 1,\n",
       " 'measure': 1,\n",
       " 'highly': 1,\n",
       " 'resolve': 1,\n",
       " 'shall': 3,\n",
       " 'died': 1,\n",
       " 'vain': 1,\n",
       " 'under': 1,\n",
       " 'God': 1,\n",
       " 'birth': 1,\n",
       " 'freedom': 1,\n",
       " 'government': 1,\n",
       " 'people': 3,\n",
       " 'by': 1,\n",
       " 'perish': 1}"
      ]
     },
     "execution_count": 21,
     "metadata": {},
     "output_type": "execute_result"
    }
   ],
   "source": [
    "gettysburg_address = \"\"\"\n",
    "Four score and seven years ago our fathers brought forth on this continent, \n",
    "a new nation, conceived in Liberty, and dedicated to the proposition that \n",
    "all men are created equal.\n",
    "\n",
    "Now we are engaged in a great civil war, testing whether that nation, or \n",
    "any nation so conceived and so dedicated, can long endure. We are met on\n",
    "a great battle-field of that war. We have come to dedicate a portion of\n",
    "that field, as a final resting place for those who here gave their lives\n",
    "that that nation might live. It is altogether fitting and proper that we\n",
    "should do this.\n",
    "\n",
    "But, in a larger sense, we can not dedicate -- we can not consecrate -- we\n",
    "can not hallow -- this ground. The brave men, living and dead, who struggled\n",
    "here, have consecrated it, far above our poor power to add or detract.  The\n",
    "world will little note, nor long remember what we say here, but it can never\n",
    "forget what they did here. It is for us the living, rather, to be dedicated\n",
    "here to the unfinished work which they who fought here have thus far so nobly\n",
    "advanced. It is rather for us to be here dedicated to the great task remaining\n",
    "before us -- that from these honored dead we take increased devotion to that\n",
    "cause for which they gave the last full measure of devotion -- that we here\n",
    "highly resolve that these dead shall not have died in vain -- that this\n",
    "nation, under God, shall have a new birth of freedom -- and that government\n",
    "of the people, by the people, for the people, shall not perish from the earth.\n",
    "\"\"\"\n",
    "\n",
    "ga = gettysburg_address.split()\n",
    "\n",
    "ga = [a.replace(\".\", \"\").replace(\",\", \"\") for a in ga]\n",
    "\n",
    "\n",
    "# part 1\n",
    "\n",
    "my_dict = {}\n",
    "\n",
    "for i in range(len(ga)):\n",
    "    count=0\n",
    "    for j in range(len(ga)-1):\n",
    "        if ga[i].lower() == ga[j].lower():\n",
    "            count+=1\n",
    "\n",
    "            my_dict.update({ga[i]:count})\n",
    "\n",
    "my_dict\n",
    "\n",
    "\n"
   ]
  },
  {
   "cell_type": "markdown",
   "metadata": {},
   "source": [
    "## Q5: Foxes and dogs\n",
    "\n",
    "### Part 1. Short words\n",
    "\n",
    "Let's practice functions.  Here's a simple function that takes a string and returns a list of all the 4 letter words:"
   ]
  },
  {
   "cell_type": "code",
   "execution_count": null,
   "metadata": {},
   "outputs": [
    {
     "name": "stdout",
     "output_type": "stream",
     "text": [
      "['The', 'fox', 'the', 'dog']\n"
     ]
    }
   ],
   "source": [
    "def four_letter_words(message, n):\n",
    "    words = message.split()\n",
    "    four_letters = [w for w in words if len(w) == n]\n",
    "    return four_letters\n",
    "\n",
    "message = \"The quick brown fox jumps over the lazy dog\"\n",
    "print(four_letter_words(message, 3))"
   ]
  },
  {
   "cell_type": "code",
   "execution_count": null,
   "metadata": {},
   "outputs": [
    {
     "name": "stdout",
     "output_type": "stream",
     "text": [
      "Is \"The quick brown fox jumps over the lazy dog\" a panagram?\n",
      "True\n",
      "Is \"Quel ramo del lago di Como\" a panagram?\n",
      "False\n"
     ]
    }
   ],
   "source": [
    "message =[ \"The quick brown fox jumps over the lazy dog\",\"Quel ramo del lago di Como\"]\n",
    "\n",
    "alphabet = list(string.ascii_lowercase)\n",
    "\n",
    "def panagram(message,alphabet):\n",
    "    for lm in alphabet:\n",
    "        if lm not in set(message.lower().replace(' ', 'a')) :\n",
    "            res = bool(False)\n",
    "        else:\n",
    "            res = bool(True)\n",
    "    \n",
    "    return res\n",
    "\n",
    "\n",
    "for m in message:\n",
    "    print('Is \"' + m + '\" a panagram?')\n",
    "    print(panagram(m,alphabet))\n",
    "        \n"
   ]
  },
  {
   "cell_type": "code",
   "execution_count": null,
   "metadata": {},
   "outputs": [],
   "source": []
  }
 ],
 "metadata": {
  "kernelspec": {
   "display_name": "Python 3",
   "language": "python",
   "name": "python3"
  },
  "language_info": {
   "codemirror_mode": {
    "name": "ipython",
    "version": 3
   },
   "file_extension": ".py",
   "mimetype": "text/x-python",
   "name": "python",
   "nbconvert_exporter": "python",
   "pygments_lexer": "ipython3",
   "version": "3.9.6"
  }
 },
 "nbformat": 4,
 "nbformat_minor": 2
}
