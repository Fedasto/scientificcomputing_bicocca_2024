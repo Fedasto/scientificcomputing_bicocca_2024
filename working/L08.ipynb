{
 "cells": [
  {
   "cell_type": "markdown",
   "metadata": {},
   "source": [
    "## Lecture 08 - Exercises"
   ]
  },
  {
   "cell_type": "markdown",
   "metadata": {},
   "source": [
    "\n",
    "\n",
    "# Exercises\n",
    "\n",
    "For the exams work on at least two of the these three exercises\n",
    "\n",
    "## Q1: I love pip \n",
    "\n",
    "- Take a piece of python code you wrote (for instance pick one of the exercises you've done for this class). \n",
    "- Turn it into a module\n",
    "- Install it locally\n",
    "- Deploy on pypi (only using the test-pypi server!)\n",
    "\n",
    "\n",
    "\n",
    "\n",
    "\n",
    "\n"
   ]
  },
  {
   "cell_type": "code",
   "execution_count": 15,
   "metadata": {},
   "outputs": [
    {
     "name": "stdout",
     "output_type": "stream",
     "text": [
      "/Users/federico/Desktop/scientificcomputing_bicocca_2024/working/montecarlo_module/montecarloSimulation/__init__.py\n"
     ]
    }
   ],
   "source": [
    "import montecarloSimulation \n",
    "print(montecarloSimulation.__file__)\n"
   ]
  },
  {
   "cell_type": "code",
   "execution_count": 16,
   "metadata": {},
   "outputs": [
    {
     "name": "stdout",
     "output_type": "stream",
     "text": [
      "/Users/federico/Desktop/scientificcomputing_bicocca_2024/working/montecarlo_module/montecarloSimulation\n"
     ]
    },
    {
     "name": "stderr",
     "output_type": "stream",
     "text": [
      "/Users/federico/Library/Python/3.9/lib/python/site-packages/IPython/core/magics/osm.py:417: UserWarning: using dhist requires you to install the `pickleshare` library.\n",
      "  self.shell.db['dhist'] = compress_dhist(dhist)[-100:]\n"
     ]
    }
   ],
   "source": [
    "%cd /Users/federico/Desktop/scientificcomputing_bicocca_2024/working/montecarlo_module/montecarloSimulation/"
   ]
  },
  {
   "cell_type": "code",
   "execution_count": 18,
   "metadata": {},
   "outputs": [
    {
     "data": {
      "image/png": "[encoded data removed]",
      "text/plain": [
       "<Figure size 640x480 with 1 Axes>"
      ]
     },
     "metadata": {},
     "output_type": "display_data"
    }
   ],
   "source": [
    "%run montecarlo_module.py -d 10000"
   ]
  },
  {
   "cell_type": "code",
   "execution_count": 26,
   "metadata": {},
   "outputs": [
    {
     "name": "stdout",
     "output_type": "stream",
     "text": [
      "Defaulting to user installation because normal site-packages is not writeable\n",
      "Requirement already satisfied: montecarloSimulation in /Users/federico/Desktop/scientificcomputing_bicocca_2024/working/montecarlo_module (0.0.1)\n",
      "Requirement already satisfied: numpy in /Users/federico/Library/Python/3.9/lib/python/site-packages (from montecarloSimulation) (1.26.4)\n",
      "Requirement already satisfied: matplotlib in /Users/federico/Library/Python/3.9/lib/python/site-packages (from montecarloSimulation) (3.8.3)\n",
      "Requirement already satisfied: numba in /Users/federico/Library/Python/3.9/lib/python/site-packages (from montecarloSimulation) (0.60.0)\n",
      "Requirement already satisfied: contourpy>=1.0.1 in /Users/federico/Library/Python/3.9/lib/python/site-packages (from matplotlib->montecarloSimulation) (1.2.0)\n",
      "Requirement already satisfied: cycler>=0.10 in /Users/federico/Library/Python/3.9/lib/python/site-packages (from matplotlib->montecarloSimulation) (0.12.1)\n",
      "Requirement already satisfied: fonttools>=4.22.0 in /Users/federico/Library/Python/3.9/lib/python/site-packages (from matplotlib->montecarloSimulation) (4.50.0)\n",
      "Requirement already satisfied: kiwisolver>=1.3.1 in /Users/federico/Library/Python/3.9/lib/python/site-packages (from matplotlib->montecarloSimulation) (1.4.5)\n",
      "Requirement already satisfied: packaging>=20.0 in /Users/federico/Library/Python/3.9/lib/python/site-packages (from matplotlib->montecarloSimulation) (24.0)\n",
      "Requirement already satisfied: pillow>=8 in /Users/federico/Library/Python/3.9/lib/python/site-packages (from matplotlib->montecarloSimulation) (10.2.0)\n",
      "Requirement already satisfied: pyparsing>=2.3.1 in /Users/federico/Library/Python/3.9/lib/python/site-packages (from matplotlib->montecarloSimulation) (3.1.2)\n",
      "Requirement already satisfied: python-dateutil>=2.7 in /Users/federico/Library/Python/3.9/lib/python/site-packages (from matplotlib->montecarloSimulation) (2.9.0.post0)\n",
      "Requirement already satisfied: importlib-resources>=3.2.0 in /Users/federico/Library/Python/3.9/lib/python/site-packages (from matplotlib->montecarloSimulation) (6.4.0)\n",
      "Requirement already satisfied: llvmlite<0.44,>=0.43.0dev0 in /Users/federico/Library/Python/3.9/lib/python/site-packages (from numba->montecarloSimulation) (0.43.0)\n",
      "Requirement already satisfied: zipp>=3.1.0 in /Users/federico/Library/Python/3.9/lib/python/site-packages (from importlib-resources>=3.2.0->matplotlib->montecarloSimulation) (3.18.1)\n",
      "Requirement already satisfied: six>=1.5 in /Library/Developer/CommandLineTools/Library/Frameworks/Python3.framework/Versions/3.9/lib/python3.9/site-packages (from python-dateutil>=2.7->matplotlib->montecarloSimulation) (1.15.0)\n",
      "\n",
      "\u001b[1m[\u001b[0m\u001b[34;49mnotice\u001b[0m\u001b[1;39;49m]\u001b[0m\u001b[39;49m A new release of pip is available: \u001b[0m\u001b[31;49m24.0\u001b[0m\u001b[39;49m -> \u001b[0m\u001b[32;49m24.3.1\u001b[0m\n",
      "\u001b[1m[\u001b[0m\u001b[34;49mnotice\u001b[0m\u001b[1;39;49m]\u001b[0m\u001b[39;49m To update, run: \u001b[0m\u001b[32;49m/Library/Developer/CommandLineTools/usr/bin/python3 -m pip install --upgrade pip\u001b[0m\n",
      "Note: you may need to restart the kernel to use updated packages.\n"
     ]
    }
   ],
   "source": [
    "pip install montecarloSimulation"
   ]
  },
  {
   "cell_type": "markdown",
   "metadata": {},
   "source": [
    "# Q2: My own test\n",
    "\n",
    "Pick a piece of python code that you like (your own PhD project, or take one of the exercises from this class). Implement a unit test and a regression test.\n",
    "Put it under git version control, and write a github action that runs the tests at every commit.\n",
    "Edit the github options to make sure the code cannot be committed if the tests fail (that's a common thing for big projects with many collaborations, nobody is allowed to break the code)"
   ]
  },
  {
   "cell_type": "code",
   "execution_count": 2,
   "metadata": {},
   "outputs": [
    {
     "name": "stdout",
     "output_type": "stream",
     "text": [
      "/Users/federico/Desktop/scientificcomputing_bicocca_2024/working/montecarlo_module/montecarloSimulation\n"
     ]
    },
    {
     "name": "stderr",
     "output_type": "stream",
     "text": [
      "/Users/federico/Library/Python/3.9/lib/python/site-packages/IPython/core/magics/osm.py:417: UserWarning: using dhist requires you to install the `pickleshare` library.\n",
      "  self.shell.db['dhist'] = compress_dhist(dhist)[-100:]\n"
     ]
    }
   ],
   "source": [
    "%cd montecarlo_module/montecarloSimulation/"
   ]
  },
  {
   "cell_type": "code",
   "execution_count": 9,
   "metadata": {},
   "outputs": [
    {
     "name": "stderr",
     "output_type": "stream",
     "text": [
      "..\n",
      "----------------------------------------------------------------------\n",
      "Ran 2 tests in 0.001s\n",
      "\n",
      "OK\n"
     ]
    }
   ],
   "source": [
    "%run test_L08.py"
   ]
  },
  {
   "cell_type": "code",
   "execution_count": null,
   "metadata": {},
   "outputs": [],
   "source": []
  }
 ],
 "metadata": {
  "kernelspec": {
   "display_name": "Python 3",
   "language": "python",
   "name": "python3"
  },
  "language_info": {
   "codemirror_mode": {
    "name": "ipython",
    "version": 3
   },
   "file_extension": ".py",
   "mimetype": "text/x-python",
   "name": "python",
   "nbconvert_exporter": "python",
   "pygments_lexer": "ipython3",
   "version": "3.9.6"
  }
 },
 "nbformat": 4,
 "nbformat_minor": 2
}
